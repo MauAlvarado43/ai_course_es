{
 "cells": [
  {
   "attachments": {},
   "cell_type": "markdown",
   "metadata": {},
   "source": [
    "Reducción de la dimensionalidad\n",
    "===========================\n",
    "\n",
    "La reducción de la dimensionalidad es una técnica que nos permite reducir el número de variables de un conjunto de datos. Esto es útil cuando tenemos un conjunto de datos con muchas variables, ya que nos permite reducirlas y, por tanto, el número de parámetros que tenemos que estimar dando velocidad al algoritmo. Además, esta técnica nos permite visualizar los datos en un espacio de menor dimensión, lo que nos permite entender mejor los datos.\n",
    "\n",
    "Los métodos más comunes son:\n",
    "\n",
    "* Lineales\n",
    "* Análisis factorial\n",
    "* Análisis de componentes principales\n",
    "* Análisis del discriminante lineal\n",
    "\n",
    "* No lineales\n",
    "* Escala multidimensional\n",
    "* Mapeo de características isométricas\n",
    "* Mapas de Hessien\n",
    "\n",
    "Referencias:\n",
    "\n",
    "https://softtek.eu/tech-magazine/artificial-intelligence/la-reduccion-de-dimensionalidad-en-el-machine-learning/"
   ]
  }
 ],
 "metadata": {
  "language_info": {
   "name": "python"
  },
  "orig_nbformat": 4
 },
 "nbformat": 4,
 "nbformat_minor": 2
}
