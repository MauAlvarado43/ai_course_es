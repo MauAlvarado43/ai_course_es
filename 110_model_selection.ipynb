{
 "cells": [
  {
   "attachments": {},
   "cell_type": "markdown",
   "metadata": {},
   "source": [
    "Selección de modelos\n",
    "===================\n",
    "\n",
    "¿Cómo seleccionas el mejor modelo? ¿Cómo eliges qué hiperpárametros son óptimos? ¿Cómo evalúas el rendimiento de un modelo? ¿Sabes identificar el problema de sobreajuste y subajuste? Estas preguntas pueden ser resueltas por medio de la validación cruzada y la búsqueda de grilla."
   ]
  }
 ],
 "metadata": {
  "language_info": {
   "name": "python"
  },
  "orig_nbformat": 4
 },
 "nbformat": 4,
 "nbformat_minor": 2
}
