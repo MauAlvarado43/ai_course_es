{
 "cells": [
  {
   "attachments": {},
   "cell_type": "markdown",
   "metadata": {},
   "source": [
    "Regresión\n",
    "=========================\n",
    "\n",
    "El análisis de regresión es una herramienta de frecuente uso en estadística. La cual permite investigar las relaciones entre diferentes variables cuantitativas. Esto, mediante la formulación de ecuaciones matemáticas.\n",
    "Podemos verlo como dados un conjunto de datos de entrada y salida, buscar qué relación podemos encontrar entre los valores, es decir, generar un modelo. Con esto podemos generalizar alguna función que nos permita estimar el valor de algún dato desconocido. \n",
    "\n",
    "Algoritmos\n",
    "=========================\n",
    "Para esta sección veremos los siguientes algoritmos:\n",
    "\n",
    "* Regresión lineal simple\n",
    "* Regresión lineal múltiple\n",
    "* Regresión polinómica\n",
    "* Máquinas de soporte vectorial\n",
    "* Árboles de decisión\n",
    "* Bosques aleatorios de regresión\n",
    "\n",
    "Rendimiento\n",
    "=========================\n",
    "Exsiten diferentes métricas para evaluar la precisión de los modelos generados mediante machine learning, las más importantes para la regresión son:\n",
    "\n",
    "* R²: describe la proporción de variabilidad de la variable dependiente y la descrita por el modelo. Se calcula mediante $1 - \\frac{\\Sigma(\\hat{y_i}-y_i)²}{\\Sigma(y_i-\\overline{y_i})²}$.\n",
    "\n",
    "* R² ajustado: dado que R² puede verse afectado por la cantidad de variables (puesto que entre más haya mayor será su valor), este es corregido mediante $1-(1-R²)\\frac{n-1}{n-p-1}$ (con n la cantidad de muestras y p la cantidad de variables)."
   ]
  }
 ],
 "metadata": {
  "kernelspec": {
   "display_name": "Python 3.8.10 64-bit",
   "language": "python",
   "name": "python3"
  },
  "language_info": {
   "name": "python",
   "version": "3.8.10"
  },
  "orig_nbformat": 4,
  "vscode": {
   "interpreter": {
    "hash": "916dbcbb3f70747c44a77c7bcd40155683ae19c65e1c03b4aa3499c5328201f1"
   }
  }
 },
 "nbformat": 4,
 "nbformat_minor": 2
}
