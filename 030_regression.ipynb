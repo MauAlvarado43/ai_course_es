{
 "cells": [
  {
   "attachments": {},
   "cell_type": "markdown",
   "metadata": {},
   "source": [
    "Regresión\n",
    "=========================\n",
    "\n",
    "El análisis de regresión es una herramienta de frecuente uso en estadística. La cual permite investigar las relaciones entre diferentes variables cuantitativas. Esto, mediante la formulación de ecuaciones matemáticas.\n",
    "Podemos verlo como dados un conjunto de datos de entrada y salida, buscar qué relación podemos encontrar entre los valores, es decir, generar un modelo. Con esto podemos generalizar alguna función que nos permita estimar el valor de algún dato desconocido. \n",
    "\n",
    "Algoritmos\n",
    "=========================\n",
    "Para esta sección veremos los siguientes algoritmos:\n",
    "\n",
    "* Regresión lineal simple\n",
    "* Regresión lineal múltiple\n",
    "* Regresión polinómica\n",
    "* Máquinas de soporte vectorial\n",
    "* Árboles de decisión\n",
    "* Bosques aleatorios de regresión"
   ]
  }
 ],
 "metadata": {
  "kernelspec": {
   "display_name": "Python 3",
   "language": "python",
   "name": "python3"
  },
  "language_info": {
   "name": "python",
   "version": "3.8.10 (tags/v3.8.10:3d8993a, May  3 2021, 11:48:03) [MSC v.1928 64 bit (AMD64)]"
  },
  "orig_nbformat": 4,
  "vscode": {
   "interpreter": {
    "hash": "0afaa429f1cb1a8f614e3e0ffce767383ab1e08f5d463e28cb3e347a71032bd4"
   }
  }
 },
 "nbformat": 4,
 "nbformat_minor": 2
}
