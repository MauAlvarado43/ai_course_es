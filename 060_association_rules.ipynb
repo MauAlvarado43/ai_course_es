{
 "cells": [
  {
   "attachments": {},
   "cell_type": "markdown",
   "metadata": {},
   "source": [
    "Reglas de asociación\n",
    "=========================\n",
    "\n",
    "Veamos el siguiente ejemplo: una persona compró pan, carne, queso, papas fritas y otra pan, carne, queso, ¿es acaso que estos tres elementos que se repiten tengan una relación? ¿si compran carne, también comprarán pan y queso?\n",
    "\n",
    "Como conceptos clave necesitamos saber lo siguiente:\n",
    "\n",
    "* Transacción: es cada grupo de eventos o elementos asociados de alguna forma (carrito de comrpas, páginas web visitadas, películas vistas, etc).\n",
    "* Item: es el evento o elemento en una transacción.\n",
    "* Itemset: es un subjontunto de la transacción.\n",
    "\n",
    "Los algoritmos de reglas de asociación buscan encontrar relaciones en un conjunto de transacciones para tratar de encontrar aquellas que ocurren de forma conjunta, es decir, se busca una implicación $X => Y$ (donde $X$ y $Y$ son itemsets). El lado izquierdo de esta regla recibe el nombre de *antecedente* y el lado izquierdo el nombre de *consecuente*.\n",
    "\n",
    "Algoritmos\n",
    "=========================\n",
    "\n",
    "Para esta sección veremos los siguientes algoritmos:\n",
    "\n",
    "* Apriori\n",
    "\n",
    "* Eclat\n",
    "\n",
    "Referencias:\n",
    "\n",
    "https://www.cienciadedatos.net/documentos/43_reglas_de_asociacion"
   ]
  }
 ],
 "metadata": {
  "kernelspec": {
   "display_name": "Python 3",
   "language": "python",
   "name": "python3"
  },
  "language_info": {
   "name": "python",
   "version": "3.8.10"
  },
  "orig_nbformat": 4,
  "vscode": {
   "interpreter": {
    "hash": "0afaa429f1cb1a8f614e3e0ffce767383ab1e08f5d463e28cb3e347a71032bd4"
   }
  }
 },
 "nbformat": 4,
 "nbformat_minor": 2
}
