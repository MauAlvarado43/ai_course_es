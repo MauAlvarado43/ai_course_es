{
 "cells": [
  {
   "attachments": {},
   "cell_type": "markdown",
   "metadata": {},
   "source": [
    "¿Qué es Machine Learning?\n",
    "=========================\n",
    "El Machine Learning es una disciplina del campo de la Inteligencia Artificial que, a través de algoritmos, dota a los ordenadores de la capacidad de identificar patrones en datos masivos y elaborar predicciones (análisis predictivo). Este aprendizaje permite a los computadores realizar tareas específicas de forma autónoma, es decir, sin necesidad de ser programados.\n",
    "\n",
    "Aplicaciones \n",
    "==========================\n",
    "\n",
    "* Sistemas de recomendaciones\n",
    "* Vehículos autónomos\n",
    "* Redes sociales\n",
    "* Búsqueda\n",
    "* Medicina\n",
    "\n",
    "Categorías de algoritmos\n",
    "==========================\n",
    "Los algoritmos de Machine Learning se dividen en tres categorías, siendo las dos primeras las más comunes:\n",
    "\n",
    "**Aprendizaje supervisado**: estos algoritmos cuentan con un aprendizaje previo basado en un sistema de etiquetas asociadas a unos datos que les permiten tomar decisiones o hacer predicciones. Un ejemplo es un detector de spam que etiqueta un e-mail como spam o no dependiendo de los patrones que ha aprendido del histórico de correos (remitente, relación texto/imágenes, palabras clave en el asunto, etc.).\n",
    "\n",
    "**Aprendizaje no supervisado**: estos algoritmos no cuentan con un conocimiento previo. Se enfrentan al caos de datos con el objetivo de encontrar patrones que permitan organizarlos de alguna manera. Por ejemplo, en el campo del marketing se utilizan para extraer patrones de datos masivos provenientes de las redes sociales y crear campañas de publicidad altamente segmentadas.\n",
    "\n",
    "**Aprendizaje por refuerzo**: su objetivo es que un algoritmo aprenda a partir de la propia experiencia. Esto es, que sea capaz de tomar la mejor decisión ante diferentes situaciones de acuerdo a un proceso de prueba y error en el que se recompensan las decisiones correctas. En la actualidad se está utilizando para posibilitar el reconocimiento facial, hacer diagnósticos médicos o clasificar secuencias de ADN."
   ]
  },
  {
   "attachments": {},
   "cell_type": "markdown",
   "metadata": {},
   "source": [
    "Referencias:\n",
    "\n",
    "* https://www.bbva.com/es/machine-learning-que-es-y-como-funciona/\n",
    "\n",
    "* https://www.iberdrola.com/innovacion/machine-learning-aprendizaje-automatico"
   ]
  }
 ],
 "metadata": {
  "kernelspec": {
   "display_name": "machine_learning",
   "language": "python",
   "name": "python3"
  },
  "language_info": {
   "name": "python",
   "version": "3.9.15"
  },
  "orig_nbformat": 4,
  "vscode": {
   "interpreter": {
    "hash": "bafb329b288a2b09d3ab7892d829421839adf111fec37aa1e9f147ddab58cc93"
   }
  }
 },
 "nbformat": 4,
 "nbformat_minor": 2
}
