{
 "cells": [
  {
   "cell_type": "markdown",
   "metadata": {},
   "source": [
    "La información de este repositorio fue extraída de los siguientes sitios, puedes consultar sus posts para obtener más detalles acerca los algoritmos implementados:\n",
    "\n",
    "https://www.cienciadedatos.net/\n",
    "\n",
    "https://www.ibm.com/docs/es/\n",
    "\n",
    "https://www.bbva.com/es/"
   ]
  }
 ],
 "metadata": {
  "kernelspec": {
   "display_name": "Python 3.8.10 64-bit",
   "language": "python",
   "name": "python3"
  },
  "language_info": {
   "name": "python",
   "version": "3.8.10"
  },
  "orig_nbformat": 4,
  "vscode": {
   "interpreter": {
    "hash": "916dbcbb3f70747c44a77c7bcd40155683ae19c65e1c03b4aa3499c5328201f1"
   }
  }
 },
 "nbformat": 4,
 "nbformat_minor": 2
}
