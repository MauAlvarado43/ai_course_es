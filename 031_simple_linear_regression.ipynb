{
 "cells": [
  {
   "cell_type": "markdown",
   "metadata": {},
   "source": [
    "¿Qué es la regresión lineal?\n",
    "==========================\n",
    "\n",
    "Es un modelo matemático que busca aproximar la relación entre una variable independiente y otra dependiente. Se describe como:\n",
    "\n",
    "<center>\n",
    "\n",
    "$\\hat{Y} = \\hat{\\beta_0} + \\hat{\\beta_1}X_1$\n",
    "\n",
    "</center>\n",
    "\n",
    "donde\n",
    "\n",
    "* $\\hat{\\beta_0}$ es la ordenada al origen\n",
    "* $\\hat{\\beta_1}$ es la pendiente\n",
    "\n",
    "A su vez, estos coeficientes los obtenemos de:\n",
    "\n",
    "<center>\n",
    "\n",
    "$\\hat{\\beta_1} = \\frac{\\Sigma(x_i - \\overline{x})(y_i - \\overline{y})}{\\Sigma(x_i-\\overline{x})²}$\n",
    "\n",
    "$\\hat{\\beta_0} = \\overline{y} - \\hat{\\beta_1}\\overline{x}$\n",
    "\n",
    "</center>\n",
    "\n",
    "Un concepto importante al trabajar con este modelo son los residuos, los cuales no son más que la diferencia entre el valor observado y el valor predicho. Esto nos interesa dado que para poder aplicar este modelo es necesario que los datos cumplan los siguientes supuestos:\n",
    "* Linealidad: la relación entre ambas variables debe ser lineal.\n",
    "* Normalidad: los residuos deben tener una distribución normal.\n",
    "* Homocedasticidad: los residuos deben tener una varianza constante.\n",
    "* Independencia residual: los residuos no deben estar correlacionados entre sí.\n",
    "\n",
    "Implementación\n",
    "=========================="
   ]
  },
  {
   "cell_type": "code",
   "execution_count": null,
   "metadata": {},
   "outputs": [],
   "source": [
    "import numpy as np\n",
    "import pandas as pd\n",
    "import matplotlib.pyplot as plt\n",
    "\n",
    "# Cargamos el dataset\n",
    "dataset = pd.read_csv('./datasets/Salary_Data.csv')\n",
    "X = dataset.iloc[:, :-1].values\n",
    "Y = dataset.iloc[:, 1].values"
   ]
  },
  {
   "cell_type": "code",
   "execution_count": null,
   "metadata": {},
   "outputs": [],
   "source": [
    "# Dividimos nuestro conjunto de datos en entrenamiento y prueba\n",
    "from sklearn.model_selection import train_test_split\n",
    "X_train, X_test, Y_train, Y_test = train_test_split(X, Y, test_size = 0.2, random_state = 0)"
   ]
  },
  {
   "cell_type": "code",
   "execution_count": null,
   "metadata": {},
   "outputs": [],
   "source": [
    "# Entrenemos nuestro modelo de regresión lineal simple\n",
    "from sklearn.linear_model import LinearRegression\n",
    "regressor = LinearRegression()\n",
    "regressor.fit(X_train, Y_train)\n",
    "\n",
    "# Predecimos los resultados del conjunto de prueba\n",
    "y_pred = regressor.predict(X_test)"
   ]
  },
  {
   "cell_type": "code",
   "execution_count": null,
   "metadata": {},
   "outputs": [],
   "source": [
    "# Graficamos los resultados\n",
    "plt.scatter(X_train, Y_train, color = 'red')\n",
    "plt.plot(X_train, regressor.predict(X_train), color = 'blue')\n",
    "plt.title('Salary vs Experience (Training set)')\n",
    "plt.xlabel('Years of Experience')\n",
    "plt.ylabel('Salary')\n",
    "plt.show()"
   ]
  },
  {
   "cell_type": "markdown",
   "metadata": {},
   "source": [
    "Referencias:\n",
    "\n",
    "https://www.cienciadedatos.net/documentos/24_correlacion_y_regresion_lineal#Correlaci%C3%B3n_parcial"
   ]
  }
 ],
 "metadata": {
  "kernelspec": {
   "display_name": "Python 3.8.10 64-bit",
   "language": "python",
   "name": "python3"
  },
  "language_info": {
   "name": "python",
   "version": "3.8.10"
  },
  "orig_nbformat": 4,
  "vscode": {
   "interpreter": {
    "hash": "916dbcbb3f70747c44a77c7bcd40155683ae19c65e1c03b4aa3499c5328201f1"
   }
  }
 },
 "nbformat": 4,
 "nbformat_minor": 2
}
