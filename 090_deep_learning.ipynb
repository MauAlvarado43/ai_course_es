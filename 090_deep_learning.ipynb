{
 "cells": [
  {
   "attachments": {},
   "cell_type": "markdown",
   "metadata": {},
   "source": [
    "Deep Learning\n",
    "=========================\n",
    "Es un campo del machine learning gobernado por las redes neuronales: algoritmos inspirados en el funcionamiento del cerebro humano que aprenden progresivamente de un conjunto de datos. Ha tenido un gran impacto en todas las industrias. Por ejemplo, en las ciencias de la vida, el aprendizaje profundo se puede utilizar para el análisis avanzado de imágenes, la investigación, el descubrimiento de medicinas, la predicción de problemas de salud así como síntomas de enfermedades, y la aceleración de conocimientos a partir de la secuenciación genómica. En el transporte, puede ayudar a los vehículos autónomos a adaptarse a las condiciones cambiantes; y a su vez ser utilizado para proteger infraestructuras críticas.\n",
    "\n",
    "Referencias:\n",
    "\n",
    "https://www.ibm.com/mx-es/cloud/deep-learning"
   ]
  }
 ],
 "metadata": {
  "language_info": {
   "name": "python"
  },
  "orig_nbformat": 4
 },
 "nbformat": 4,
 "nbformat_minor": 2
}
