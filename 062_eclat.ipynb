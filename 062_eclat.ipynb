{
 "cells": [
  {
   "attachments": {
    "image-2.png": {
     "image/png": "[encoded data removed]"
    }
   },
   "cell_type": "markdown",
   "metadata": {},
   "source": [
    "Algoritmo eclat\n",
    "=========================\n",
    "\n",
    "Mientras que en el algoritmo apriori listábamos los productos en cada transacción, en eclat listaremos el producto y la transacción en la que aparece, visualmente hablando:\n",
    "\n",
    "<center>\n",
    "\n",
    "![image.png](attachment:image-2.png)\n",
    "\n",
    "</center>\n",
    "\n",
    "Los pasos del algoritmo son:\n",
    "\n",
    "1.- Se identifican los items y se listan las transacciones en las que aparece.\n",
    "\n",
    "2.- Se calcula el soporte y se eliminan aquellos que estén por debajo de un umbral.\n",
    "\n",
    "3.- Se calculan todas las posibles intersecciones en la columna de transacciones de longitud k + 1.\n",
    "\n",
    "4.- Se repite 2 y 3 hasta que no haya itemsets.\n",
    "\n",
    "Implementación\n",
    "========================="
   ]
  },
  {
   "cell_type": "code",
   "execution_count": 2,
   "metadata": {},
   "outputs": [],
   "source": [
    "import numpy as np\n",
    "import matplotlib.pyplot as plt\n",
    "import pandas as pd\n",
    "\n",
    "# Importamos el dataset\n",
    "dataset = pd.read_csv('./datasets/Market_Basket_Optimisation.csv', header = None).astype(str)"
   ]
  },
  {
   "cell_type": "code",
   "execution_count": 4,
   "metadata": {},
   "outputs": [
    {
     "name": "stdout",
     "output_type": "stream",
     "text": [
      "Combination 2 by 2\n"
     ]
    },
    {
     "name": "stderr",
     "output_type": "stream",
     "text": [
      "6555it [00:25, 253.57it/s]\n"
     ]
    },
    {
     "ename": "AttributeError",
     "evalue": "'ECLAT' object has no attribute 'transform'",
     "output_type": "error",
     "traceback": [
      "\u001b[1;31m---------------------------------------------------------------------------\u001b[0m",
      "\u001b[1;31mAttributeError\u001b[0m                            Traceback (most recent call last)",
      "Cell \u001b[1;32mIn[4], line 8\u001b[0m\n\u001b[0;32m      5\u001b[0m rule_indexes, rule_supports \u001b[39m=\u001b[39m eclat\u001b[39m.\u001b[39mfit(min_support\u001b[39m=\u001b[39m\u001b[39m0.003\u001b[39m, min_combination\u001b[39m=\u001b[39m\u001b[39m2\u001b[39m, max_combination\u001b[39m=\u001b[39m\u001b[39m2\u001b[39m)\n\u001b[0;32m      7\u001b[0m \u001b[39m# Visualización de los resultados\u001b[39;00m\n\u001b[1;32m----> 8\u001b[0m results \u001b[39m=\u001b[39m eclat\u001b[39m.\u001b[39;49mtransform(rule_indexes, rule_supports)\n\u001b[0;32m      9\u001b[0m \u001b[39mprint\u001b[39m(rule_supports)\n",
      "\u001b[1;31mAttributeError\u001b[0m: 'ECLAT' object has no attribute 'transform'"
     ]
    }
   ],
   "source": [
    "# Ejecutamos el algoritmo\n",
    "from pyECLAT import ECLAT\n",
    "\n",
    "eclat = ECLAT(dataset, verbose=False)\n",
    "rule_indexes, rule_supports = eclat.fit(min_support=0.003, min_combination=2, max_combination=2)\n",
    "\n",
    "# Visualización de los resultados\n",
    "print(rule_supports)"
   ]
  }
 ],
 "metadata": {
  "kernelspec": {
   "display_name": "Python 3",
   "language": "python",
   "name": "python3"
  },
  "language_info": {
   "codemirror_mode": {
    "name": "ipython",
    "version": 3
   },
   "file_extension": ".py",
   "mimetype": "text/x-python",
   "name": "python",
   "nbconvert_exporter": "python",
   "pygments_lexer": "ipython3",
   "version": "3.8.10"
  },
  "orig_nbformat": 4,
  "vscode": {
   "interpreter": {
    "hash": "0afaa429f1cb1a8f614e3e0ffce767383ab1e08f5d463e28cb3e347a71032bd4"
   }
  }
 },
 "nbformat": 4,
 "nbformat_minor": 2
}
